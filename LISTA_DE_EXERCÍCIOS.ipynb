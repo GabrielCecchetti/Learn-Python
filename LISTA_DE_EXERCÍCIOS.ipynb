{
  "nbformat": 4,
  "nbformat_minor": 0,
  "metadata": {
    "colab": {
      "name": "LISTA DE EXERCÍCIOS.ipynb",
      "provenance": [],
      "authorship_tag": "ABX9TyMFiE5xtQdrVBVm8aVcWKnF",
      "include_colab_link": true
    },
    "kernelspec": {
      "name": "python3",
      "display_name": "Python 3"
    },
    "language_info": {
      "name": "python"
    }
  },
  "cells": [
    {
      "cell_type": "markdown",
      "metadata": {
        "id": "view-in-github",
        "colab_type": "text"
      },
      "source": [
        "<a href=\"https://colab.research.google.com/github/GabrielCecchetti/Learn-Python/blob/main/LISTA_DE_EXERC%C3%8DCIOS.ipynb\" target=\"_parent\"><img src=\"https://colab.research.google.com/assets/colab-badge.svg\" alt=\"Open In Colab\"/></a>"
      ]
    },
    {
      "cell_type": "markdown",
      "source": [
        "# EXERCICIOS DO DIA 13/01/2022\n",
        "\n",
        "1.   Item da lista\n",
        "2.   Item da lista\n",
        "\n"
      ],
      "metadata": {
        "id": "f77pdeBVIlet"
      }
    },
    {
      "cell_type": "markdown",
      "source": [
        "EXERCICIO 1"
      ],
      "metadata": {
        "id": "8S4ZjrD-IrHR"
      }
    },
    {
      "cell_type": "code",
      "execution_count": 2,
      "metadata": {
        "colab": {
          "base_uri": "https://localhost:8080/"
        },
        "id": "lLM-jv4HHS-V",
        "outputId": "478330d7-4b0e-450a-8e4c-e72af1e0715b"
      },
      "outputs": [
        {
          "output_type": "stream",
          "name": "stdout",
          "text": [
            "Ola Oseias\n"
          ]
        }
      ],
      "source": [
        "# código para execultar palvras\n",
        "print('Ola Oseias')"
      ]
    },
    {
      "cell_type": "markdown",
      "source": [
        "EXERCICO 2    (dificuldade: fazer com que o programa lesse o numero informado no código pint)"
      ],
      "metadata": {
        "id": "ip9Tf0-1IwsE"
      }
    },
    {
      "cell_type": "code",
      "source": [
        "numero=input('digite o numero aqui')\n",
        "print(f\"o numero foi:{numero}\")\n"
      ],
      "metadata": {
        "colab": {
          "base_uri": "https://localhost:8080/"
        },
        "id": "hdEJisKhIy-c",
        "outputId": "91ac78b5-1efc-4e85-990e-21e9add5fbf8"
      },
      "execution_count": 3,
      "outputs": [
        {
          "output_type": "stream",
          "name": "stdout",
          "text": [
            "digite o numero aqui3\n",
            "o numero foi:3\n"
          ]
        }
      ]
    },
    {
      "cell_type": "markdown",
      "source": [
        "EXERCÍCIO 3    (dificuldade: lembrar dos nun1 e nun2 como sequencia)"
      ],
      "metadata": {
        "id": "TyRGlkBEKMtg"
      }
    },
    {
      "cell_type": "code",
      "source": [
        "nun1=int(input(\"digite o primeiro numero: \"))\n",
        "nun2=int(input(\"digite o segundo numero: \"))\n",
        "print(f\"a soma dos numeros sao: {nun1+nun2}\")"
      ],
      "metadata": {
        "colab": {
          "base_uri": "https://localhost:8080/"
        },
        "id": "sfDgojuKJFsi",
        "outputId": "d041c1cc-6301-4239-91ae-e868b9ade260"
      },
      "execution_count": 4,
      "outputs": [
        {
          "output_type": "stream",
          "name": "stdout",
          "text": [
            "digite o primeiro numero: 3\n",
            "digite o segundo numero: 3\n",
            "a soma dos numeros sao: 6\n"
          ]
        }
      ]
    },
    {
      "cell_type": "markdown",
      "source": [
        "EXERCICO 4     (dificuldade: fazer com que o programa some todos os numeros e pegar o resultado final e dividir por 3)"
      ],
      "metadata": {
        "id": "kju4vLhnMCGi"
      }
    },
    {
      "cell_type": "code",
      "source": [
        "nun1=int(input(\"digite o primeiro numero: \"))\n",
        "nun2=int(input(\"digite o segundo numero: \"))\n",
        "nun3=int(input(\"digite o terceiro numero:\"))\n",
        "nun4=int(input(\"digite o terceiro numero\"))\n",
        "soma=nun1+nun2+nun3+nun4\n",
        "m=(nun1+nun2+nun3+nun4)/4 \n",
        "media=soma/4\n",
        "# print(media)\n",
        "print(f'A media é de:{m}')\n",
        "# print(nun1/nun2/nun3)"
      ],
      "metadata": {
        "colab": {
          "base_uri": "https://localhost:8080/"
        },
        "id": "OKKHmQCFMGQc",
        "outputId": "428b13b9-1679-4c6e-d666-9f43f88865ff"
      },
      "execution_count": 10,
      "outputs": [
        {
          "output_type": "stream",
          "name": "stdout",
          "text": [
            "digite o primeiro numero: 5\n",
            "digite o segundo numero: 5\n",
            "digite o terceiro numero:5\n",
            "digite o terceiro numero2\n",
            "A media é de:4.25\n"
          ]
        }
      ]
    },
    {
      "cell_type": "markdown",
      "source": [
        "EXERCIO 5  (dificuldade: não lembrar qual o simbolo, e qual a conta ser feita)"
      ],
      "metadata": {
        "id": "0rYaIl7mP72T"
      }
    },
    {
      "cell_type": "code",
      "source": [
        "metros=float(input('digite um numero em metros'))\n",
        "cen= metros*100\n",
        "print(f'{metros}m em centimetros é:{cen}')\n",
        "# type(metros)"
      ],
      "metadata": {
        "colab": {
          "base_uri": "https://localhost:8080/"
        },
        "id": "78nfkhhWWYQ0",
        "outputId": "61aaba07-4f3e-4e1b-c9a2-493ae9aa42e3"
      },
      "execution_count": 14,
      "outputs": [
        {
          "output_type": "stream",
          "name": "stdout",
          "text": [
            "digite um numero em metros8\n",
            "8.0m em centimetros é:800.0\n"
          ]
        }
      ]
    },
    {
      "cell_type": "markdown",
      "source": [
        "EXERCICIO 6 (dificuldade quase zero, só dificuldade de entender qual a funcão de int, input e print)"
      ],
      "metadata": {
        "id": "yavdqN6TWVIh"
      }
    },
    {
      "cell_type": "code",
      "source": [
        "raio=float(input('digite um raio:'))\n",
        "area=2*3.14*raio\n",
        "print(f'area do circulo é:{area}')"
      ],
      "metadata": {
        "colab": {
          "base_uri": "https://localhost:8080/"
        },
        "id": "xlEwdfdmP-qi",
        "outputId": "9f1e3a1d-ad1b-46ec-8a65-66e9ce4af087"
      },
      "execution_count": 17,
      "outputs": [
        {
          "output_type": "stream",
          "name": "stdout",
          "text": [
            "digite um raio:45\n",
            "area do circulo é:282.6\n"
          ]
        }
      ]
    },
    {
      "cell_type": "markdown",
      "source": [
        "EXERCICIO 7 (dificuldade: não soube interpretar a pergunta)"
      ],
      "metadata": {
        "id": "rcCepybpXkL8"
      }
    },
    {
      "cell_type": "code",
      "source": [
        "# calculando a area\n",
        "base=float(input('Digite a base do seu quadrado:'))\n",
        "altura=float (input('Digite a altura do seu quadrado:'))\n",
        "area=base*altura\n",
        "print(area)\n",
        "# calculando o dobro da area\n",
        "print(f'o dobro da area é:{area*2}')"
      ],
      "metadata": {
        "id": "w0bBFvUvXm8p",
        "colab": {
          "base_uri": "https://localhost:8080/"
        },
        "outputId": "7eab7afe-f084-4847-a3e6-80d7af23eeda"
      },
      "execution_count": 21,
      "outputs": [
        {
          "output_type": "stream",
          "name": "stdout",
          "text": [
            "Digite a base do seu quadrado:45\n",
            "Digite a altura do seu quadrado:45\n",
            "2025.0\n",
            "o dobro da area é:4050.0\n"
          ]
        }
      ]
    },
    {
      "cell_type": "markdown",
      "source": [
        "EXERCICIO 8     (dificuldade, não entender a questão) "
      ],
      "metadata": {
        "id": "gYHJgyJvampN"
      }
    },
    {
      "cell_type": "code",
      "source": [
        "# RECEBENDO NUMEROS\n",
        "salarioHora=float(input('digite o seu salario por hora:'))\n",
        "horasTrabalhadas=float(input('digite quantas horas trabalhadas:'))\n",
        "\n",
        "# calculando o Salario\n",
        "salario=salarioHora*horasTrabalhadas\n",
        "print(f\"O seu salario esse mês será:{salario}\")"
      ],
      "metadata": {
        "colab": {
          "base_uri": "https://localhost:8080/"
        },
        "id": "JKJbt3YlpJx8",
        "outputId": "718afb18-2dc5-4472-b648-3fd48b6c1e08"
      },
      "execution_count": 24,
      "outputs": [
        {
          "output_type": "stream",
          "name": "stdout",
          "text": [
            "digite o seu salario por hora:1\n",
            "digite quantas horas trabalhadas:100\n",
            "O seu salario esse mês será:100.0\n"
          ]
        }
      ]
    }
  ]
}